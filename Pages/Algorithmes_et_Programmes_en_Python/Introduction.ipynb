{
  "cells": [
    {
      "cell_type": "markdown",
      "metadata": {
        "colab_type": "text",
        "id": "view-in-github"
      },
      "source": [
        "<a href=\"https://colab.research.google.com/github/RussellParadox/Journal/blob/main/Pages/Algorithmes_et_Programmes_en_Python.ipynb\" target=\"_parent\"><img src=\"https://colab.research.google.com/assets/colab-badge.svg\" alt=\"Open In Colab\"/></a>"
      ]
    },
    {
      "cell_type": "markdown",
      "metadata": {
        "id": "13-LPtsLI0a6"
      },
      "source": [
        "# Introduction\n",
        "\n",
        "Pourquoi utiliser Python pour aborder des problèmes ?\n",
        "\n",
        "\n",
        "*   **Clarté**: syntaxe simple et intuitive\n",
        "*   **Polyvalence**: utilisable dans de nombreux domaines\n",
        "*   **Multi-Paradigmes**: souple dans la formulation des problèmes\n",
        "*   **Rapidité de développement**: les 3 points précédents en attestent\n",
        "*   **Communautaire**: à ce jour Python rassemble une des plus grande communauté de développeurs, scientifiques etc..\n",
        "\n",
        "Et surtout n'oublions pas le Zen de Python :\n"
      ]
    },
    {
      "cell_type": "code",
      "execution_count": 1,
      "metadata": {
        "id": "3jmxk1bLIr4F"
      },
      "outputs": [
        {
          "name": "stdout",
          "output_type": "stream",
          "text": [
            "The Zen of Python, by Tim Peters\n",
            "\n",
            "Beautiful is better than ugly.\n",
            "Explicit is better than implicit.\n",
            "Simple is better than complex.\n",
            "Complex is better than complicated.\n",
            "Flat is better than nested.\n",
            "Sparse is better than dense.\n",
            "Readability counts.\n",
            "Special cases aren't special enough to break the rules.\n",
            "Although practicality beats purity.\n",
            "Errors should never pass silently.\n",
            "Unless explicitly silenced.\n",
            "In the face of ambiguity, refuse the temptation to guess.\n",
            "There should be one-- and preferably only one --obvious way to do it.\n",
            "Although that way may not be obvious at first unless you're Dutch.\n",
            "Now is better than never.\n",
            "Although never is often better than *right* now.\n",
            "If the implementation is hard to explain, it's a bad idea.\n",
            "If the implementation is easy to explain, it may be a good idea.\n",
            "Namespaces are one honking great idea -- let's do more of those!\n"
          ]
        }
      ],
      "source": [
        "import this"
      ]
    },
    {
      "cell_type": "markdown",
      "metadata": {
        "id": "ijN3wMNGexTO"
      },
      "source": [
        "## À l'abordage !\n",
        "\n",
        "Voyons au travers d'un exemple concret comment nous pouvons aborder un problème classique de l'algorithmique, le **tri**. Mon choix se porte arbitrairement sur le **merge sort**, algorithme de tri pouvant se vanter d'avoir dans le pire des cas une complexité en temps de $O(n\\log(n))$ et une complexité en espace de $O(n)$."
      ]
    },
    {
      "cell_type": "markdown",
      "metadata": {
        "id": "u_110lw-me6Q"
      },
      "source": [
        "> Intuition: Partant de 2 listes triées, il est facile d'en construire une nouvelle également triées."
      ]
    },
    {
      "cell_type": "markdown",
      "metadata": {
        "id": "0nCHRI2fn8ki"
      },
      "source": [
        "On commence donc par **diviser** notre liste en 2 sous-listes, on les **trie** puis on les **fusionne**. Cet algorithme étant récursif, il nous faut une condition d'arrêt pour la récursion, celle-ci est simple: il suffit de s'arrêter lorsque la sous-liste que l'on considère est triée.\n"
      ]
    },
    {
      "cell_type": "markdown",
      "metadata": {
        "id": "nQDbTU4apgRm"
      },
      "source": [
        "> Nous allons ici nous arrêter lorsque la sous-liste en question ne contient plus qu'un élément, celle-ci étant forcément triée. De nombreuses autres méthodes existent, donnant lieux à des variantes intéressantes selon la situation."
      ]
    },
    {
      "cell_type": "code",
      "execution_count": 2,
      "metadata": {
        "id": "UXiXpyYSmCa2"
      },
      "outputs": [],
      "source": [
        "def mergeSort(L: list) -> list:\n",
        "  if len(L) <= 1:\n",
        "    return (L[:])\n",
        "  else:\n",
        "    mid = len(L) // 2\n",
        "    subL1 = mergeSort(L[:mid])\n",
        "    subL2 = mergeSort(L[mid:])\n",
        "    return (merge(subL1, subL2))"
      ]
    },
    {
      "cell_type": "markdown",
      "metadata": {
        "id": "wNCMYbeBuEae"
      },
      "source": [
        "Il ne reste plus qu'à écrire notre fonction `merge()`. On peut la voir comme 2 listes qui se vident **élément par élément** : en prenant à chaque fois le **plus petit** pour l'insérer au **début** de la nouvelle liste on s'assure d'obtenir une liste triée. On fini de **vider** la sous-liste où il reste des éléments dans la nouvelle liste et le tour est joué."
      ]
    },
    {
      "cell_type": "code",
      "execution_count": 3,
      "metadata": {
        "id": "UYTCU7DKuDlG"
      },
      "outputs": [],
      "source": [
        "def merge(L1: list, L2: list) -> list:\n",
        "  newL = []\n",
        "\n",
        "  while len(L1) > 0 and len(L2) > 0:\n",
        "    if L1[0] < L2[0]:\n",
        "      newL.append(L1.pop(0))\n",
        "    else:\n",
        "      newL.append(L2.pop(0))\n",
        "\n",
        "  while len(L1) > 0:\n",
        "      newL.append(L1.pop(0))\n",
        "  while len(L2) > 0:\n",
        "      newL.append(L2.pop(0))\n",
        "\n",
        "  return (newL[:])"
      ]
    },
    {
      "cell_type": "markdown",
      "metadata": {
        "id": "N3EgcQPP6Pcz"
      },
      "source": [
        "Testons !"
      ]
    },
    {
      "cell_type": "code",
      "execution_count": 4,
      "metadata": {
        "colab": {
          "base_uri": "https://localhost:8080/"
        },
        "id": "Pm7hoDyj6SPZ",
        "outputId": "c366c642-77f2-4bb1-b258-0251e8129f8e"
      },
      "outputs": [
        {
          "name": "stdout",
          "output_type": "stream",
          "text": [
            "Before:  [181, 39, 430, 374, 257, 955, 53, 108, 437, 547]\n",
            "After:  [39, 53, 108, 181, 257, 374, 430, 437, 547, 955]\n"
          ]
        }
      ],
      "source": [
        "import random as rd\n",
        "\n",
        "myList = [rd.randint(0, 1000) for i in range(10)]\n",
        "print(\"Before: \", myList)\n",
        "print(\"After: \", mergeSort(myList))"
      ]
    },
    {
      "cell_type": "markdown",
      "metadata": {
        "id": "uen7wjSz3ZjC"
      },
      "source": [
        "Nous venons de mettre en place un des plus puissants algorithmes de tri connu à ce jour, le tout avec une **facilité** déconcertante et une grande **lisibilité**.\n",
        "\n",
        "Nous ne nous somme pas une seule fois soucié de la **gestion mémoire**, ni même de l'écriture de fonctions nécessaire à la manipulation de nos structures de données, tout était **déjà présent** et nos efforts se sont uniquement concentrés sur la rédaction de notre **solution**.\n",
        "\n",
        "C'est Python."
      ]
    },
    {
      "cell_type": "markdown",
      "metadata": {
        "id": "4GaGYNGDMdOX"
      },
      "source": [
        "## C'est lent ?\n",
        "\n",
        "On entend souvent dire que Python est lent par rapport à d'autres langages, essayons de voir ce qu'il en est. Pour ce faire nous allons prendre un langage réputé pour sa rapidité tout en conservant quelques avantages comme l'OOP, le C++.\n",
        "\n",
        "Le code suivant sera adapté en C++ en n'utilisant comme ici uniquement des élément naturellement présent avec le langage, i.e sans bibliothèque externe. La mesure du temps d'exécution sera faite dans les 2 cas avec la commande `time` du bash.\n",
        "\n",
        "Le code utilisé en Python :"
      ]
    },
    {
      "cell_type": "code",
      "execution_count": 5,
      "metadata": {
        "id": "W4mFzWRKSnwU"
      },
      "outputs": [
        {
          "data": {
            "text/plain": [
              "21.30048150234855"
            ]
          },
          "execution_count": 5,
          "metadata": {},
          "output_type": "execute_result"
        }
      ],
      "source": [
        "def harmonique(n: int) -> float:\n",
        "  i = 1\n",
        "  sum = 0\n",
        "\n",
        "  while i <= n:\n",
        "    sum += 1 / i\n",
        "    i += 1\n",
        "  return sum\n",
        "\n",
        "harmonique(1000000000)"
      ]
    },
    {
      "cell_type": "markdown",
      "metadata": {
        "id": "tBePS0UTwJQ2"
      },
      "source": [
        "Et celui utilisé en C++ :"
      ]
    },
    {
      "cell_type": "markdown",
      "metadata": {
        "id": "efFTMQXEvjQt"
      },
      "source": [
        "```\n",
        "double  harmonique(int n)\n",
        "{\n",
        "        int     i = 1;\n",
        "        double  sum = 0;\n",
        "\n",
        "        while (i <= n)\n",
        "        {\n",
        "                sum += 1.0 / i;\n",
        "                i += 1;\n",
        "        }\n",
        "        return (sum);\n",
        "}\n",
        "\n",
        "int     main(void)\n",
        "{\n",
        "        harmonique(1000000000);\n",
        "}\n",
        "```"
      ]
    },
    {
      "cell_type": "markdown",
      "metadata": {
        "id": "AqSFTkEXwhlK"
      },
      "source": [
        "Sur ma machine j'obtiens **68.2s** avec Python contre... **2.3s** en C++. Oui, le C++ est nativement bien plus rapide que le Python. Mais ne pas considérer l'aspect **polyvalent** et **communautaire** de Python revient à ne pas l'utiliser correctement.\n",
        "\n",
        "Exploitons ces aspects et essayons de facilement rendre notre code plus rapide. En utilisant **PyPy**, nous pouvons utiliser la compilation **Just In Time**, celle-ci étant bien plus rapide que la compilation Bytecode native de l'interpréteur Python.\n",
        "\n",
        "Pour l'utiliser, il suffit de remplacer :\n",
        "\n",
        "`python3 test.py`\n",
        "\n",
        "Par :\n",
        "\n",
        "`pypy3 test.py`\n",
        "\n",
        "Et c'est tout ! Grâce à cette petite manoeuvre nous passons de **68.2s** à **5.6s**, ce qui nous rapproche grandement du score obtenu par le C++, c'est magique.\n",
        "\n",
        "Conclusion : avec très **peu d'efforts** nous pouvons rendre du code **Python rapide**."
      ]
    }
  ],
  "metadata": {
    "colab": {
      "authorship_tag": "ABX9TyOkYGWdgtdvV2ne9CePvj8o",
      "include_colab_link": true,
      "provenance": []
    },
    "kernelspec": {
      "display_name": "Python 3",
      "name": "python3"
    },
    "language_info": {
      "codemirror_mode": {
        "name": "ipython",
        "version": 3
      },
      "file_extension": ".py",
      "mimetype": "text/x-python",
      "name": "python",
      "nbconvert_exporter": "python",
      "pygments_lexer": "ipython3",
      "version": "3.11.9"
    }
  },
  "nbformat": 4,
  "nbformat_minor": 0
}
