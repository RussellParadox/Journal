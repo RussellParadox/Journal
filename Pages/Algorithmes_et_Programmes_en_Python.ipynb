{
  "nbformat": 4,
  "nbformat_minor": 0,
  "metadata": {
    "colab": {
      "provenance": [],
      "authorship_tag": "ABX9TyOOh9CH3mezx3OxVGrugKH1",
      "include_colab_link": true
    },
    "kernelspec": {
      "name": "python3",
      "display_name": "Python 3"
    },
    "language_info": {
      "name": "python"
    }
  },
  "cells": [
    {
      "cell_type": "markdown",
      "metadata": {
        "id": "view-in-github",
        "colab_type": "text"
      },
      "source": [
        "<a href=\"https://colab.research.google.com/github/RussellParadox/Journal/blob/main/Pages/Algorithmes_et_Programmes_en_Python.ipynb\" target=\"_parent\"><img src=\"https://colab.research.google.com/assets/colab-badge.svg\" alt=\"Open In Colab\"/></a>"
      ]
    },
    {
      "cell_type": "markdown",
      "source": [
        "# Algorithmes et Programmes en Python\n",
        "\n",
        "## Introduction\n",
        "\n",
        "Pourquoi utiliser Python pour aborder des problèmes ?\n",
        "\n",
        "\n",
        "*   **Clarté**: syntaxe simple et intuitive\n",
        "*   **Polyvalence**: utilisable dans de nombreux domaines\n",
        "*   **Multi-Paradigmes**: souple dans la formulation des problèmes\n",
        "*   **Rapidité de développement**: les 3 points précédents en attestent\n",
        "*   **Communautaire**: à ce jour Python rassemble une des plus grande communauté de développeurs, scientifiques etc..\n",
        "\n",
        "N'oublions pas le Zen de Python :\n"
      ],
      "metadata": {
        "id": "13-LPtsLI0a6"
      }
    },
    {
      "cell_type": "code",
      "execution_count": 1,
      "metadata": {
        "colab": {
          "base_uri": "https://localhost:8080/"
        },
        "id": "3jmxk1bLIr4F",
        "outputId": "a764da5f-28f1-462f-80ef-5432cb2a1371"
      },
      "outputs": [
        {
          "output_type": "stream",
          "name": "stdout",
          "text": [
            "The Zen of Python, by Tim Peters\n",
            "\n",
            "Beautiful is better than ugly.\n",
            "Explicit is better than implicit.\n",
            "Simple is better than complex.\n",
            "Complex is better than complicated.\n",
            "Flat is better than nested.\n",
            "Sparse is better than dense.\n",
            "Readability counts.\n",
            "Special cases aren't special enough to break the rules.\n",
            "Although practicality beats purity.\n",
            "Errors should never pass silently.\n",
            "Unless explicitly silenced.\n",
            "In the face of ambiguity, refuse the temptation to guess.\n",
            "There should be one-- and preferably only one --obvious way to do it.\n",
            "Although that way may not be obvious at first unless you're Dutch.\n",
            "Now is better than never.\n",
            "Although never is often better than *right* now.\n",
            "If the implementation is hard to explain, it's a bad idea.\n",
            "If the implementation is easy to explain, it may be a good idea.\n",
            "Namespaces are one honking great idea -- let's do more of those!\n"
          ]
        }
      ],
      "source": [
        "import this"
      ]
    }
  ]
}