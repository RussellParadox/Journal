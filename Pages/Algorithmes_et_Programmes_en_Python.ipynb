{
  "nbformat": 4,
  "nbformat_minor": 0,
  "metadata": {
    "colab": {
      "provenance": [],
      "authorship_tag": "ABX9TyPjJcUJZhvR76nc9MKhByhz",
      "include_colab_link": true
    },
    "kernelspec": {
      "name": "python3",
      "display_name": "Python 3"
    },
    "language_info": {
      "name": "python"
    }
  },
  "cells": [
    {
      "cell_type": "markdown",
      "metadata": {
        "id": "view-in-github",
        "colab_type": "text"
      },
      "source": [
        "<a href=\"https://colab.research.google.com/github/RussellParadox/Journal/blob/main/Pages/Algorithmes_et_Programmes_en_Python.ipynb\" target=\"_parent\"><img src=\"https://colab.research.google.com/assets/colab-badge.svg\" alt=\"Open In Colab\"/></a>"
      ]
    },
    {
      "cell_type": "markdown",
      "source": [
        "# Algorithmes et Programmes en Python\n",
        "\n",
        "## Introduction\n",
        "\n",
        "Pourquoi utiliser Python pour aborder des problèmes ?\n",
        "\n",
        "\n",
        "*   **Clarté**: syntaxe simple et intuitive\n",
        "*   **Polyvalence**: utilisable dans de nombreux domaines\n",
        "*   **Multi-Paradigmes**: souple dans la formulation des problèmes\n",
        "*   **Rapidité de développement**: les 3 points précédents en attestent\n",
        "*   **Communautaire**: à ce jour Python rassemble une des plus grande communauté de développeurs, scientifiques etc..\n",
        "\n",
        "Et surtout n'oublions pas le Zen de Python :\n"
      ],
      "metadata": {
        "id": "13-LPtsLI0a6"
      }
    },
    {
      "cell_type": "code",
      "execution_count": 1,
      "metadata": {
        "colab": {
          "base_uri": "https://localhost:8080/"
        },
        "id": "3jmxk1bLIr4F",
        "outputId": "a764da5f-28f1-462f-80ef-5432cb2a1371"
      },
      "outputs": [
        {
          "output_type": "stream",
          "name": "stdout",
          "text": [
            "The Zen of Python, by Tim Peters\n",
            "\n",
            "Beautiful is better than ugly.\n",
            "Explicit is better than implicit.\n",
            "Simple is better than complex.\n",
            "Complex is better than complicated.\n",
            "Flat is better than nested.\n",
            "Sparse is better than dense.\n",
            "Readability counts.\n",
            "Special cases aren't special enough to break the rules.\n",
            "Although practicality beats purity.\n",
            "Errors should never pass silently.\n",
            "Unless explicitly silenced.\n",
            "In the face of ambiguity, refuse the temptation to guess.\n",
            "There should be one-- and preferably only one --obvious way to do it.\n",
            "Although that way may not be obvious at first unless you're Dutch.\n",
            "Now is better than never.\n",
            "Although never is often better than *right* now.\n",
            "If the implementation is hard to explain, it's a bad idea.\n",
            "If the implementation is easy to explain, it may be a good idea.\n",
            "Namespaces are one honking great idea -- let's do more of those!\n"
          ]
        }
      ],
      "source": [
        "import this"
      ]
    },
    {
      "cell_type": "markdown",
      "source": [
        "## À l'abordage !\n",
        "\n",
        "Voyons au travers d'un exemple concret comment nous pouvons aborder un problème classique de l'algorithmique, le **tri**. Mon choix se porte arbitrairement sur le **merge sort**, algorithme de tri pouvant se vanter d'avoir dans le pire des cas une complexité en temps de $O(n\\log(n))$ et une complexité en espace de $O(n)$."
      ],
      "metadata": {
        "id": "ijN3wMNGexTO"
      }
    },
    {
      "cell_type": "markdown",
      "source": [
        "> Intuition: Partant de 2 listes triées, il est facile d'en construire une nouvelle également triées."
      ],
      "metadata": {
        "id": "u_110lw-me6Q"
      }
    },
    {
      "cell_type": "markdown",
      "source": [
        "On commence donc par diviser notre liste en 2 sous-listes, on les trie puis on les fusionne. Cet algorithme étant récursif, il nous faut une condition d'arrêt pour la récursion, celle-ci est simple: il suffit de s'arrêter lorsque la sous-liste que l'on considère est triée.\n"
      ],
      "metadata": {
        "id": "0nCHRI2fn8ki"
      }
    },
    {
      "cell_type": "markdown",
      "source": [
        "> De manière intuitive nous allons ici nous arrêter lorsque la sous-liste en question ne contient plus qu'un élément, celle-ci étant forcément triée. De nombreuses autres méthodes existent, donnant lieux à des variantes intéressantes selon la situation."
      ],
      "metadata": {
        "id": "nQDbTU4apgRm"
      }
    },
    {
      "cell_type": "code",
      "source": [
        "def mergeSort(L: list) -> list:\n",
        "  if len(L) <= 1:\n",
        "    return (L[:])\n",
        "  else:\n",
        "    mid = len(L) // 2\n",
        "    subL1 = mergeSort(L[:mid])\n",
        "    subL2 = mergeSort(L[mid:])\n",
        "    return (merge(subL1, subL2))"
      ],
      "metadata": {
        "id": "UXiXpyYSmCa2"
      },
      "execution_count": 12,
      "outputs": []
    },
    {
      "cell_type": "markdown",
      "source": [
        "Il ne reste plus qu'à écrire notre fonction `merge()`, on peut la voir comme 2 listes qui se vident, en prenant à chaque fois le plus petit élément à la sortie, pour constituer la nouvelle liste. On fini de vider la sous-liste où il reste des éléments dans la nouvelle liste et le tour est joué."
      ],
      "metadata": {
        "id": "wNCMYbeBuEae"
      }
    },
    {
      "cell_type": "code",
      "source": [
        "def merge(L1: list, L2: list) -> list:\n",
        "  newL = []\n",
        "\n",
        "  while len(L1) > 0 and len(L2) > 0:\n",
        "    if L1[0] < L2[0]:\n",
        "      newL.append(L1.pop(0))\n",
        "    else:\n",
        "      newL.append(L2.pop(0))\n",
        "\n",
        "  while len(L1) > 0:\n",
        "      newL.append(L1.pop(0))\n",
        "  while len(L2) > 0:\n",
        "      newL.append(L2.pop(0))\n",
        "\n",
        "  return (newL[:])"
      ],
      "metadata": {
        "id": "UYTCU7DKuDlG"
      },
      "execution_count": 16,
      "outputs": []
    },
    {
      "cell_type": "markdown",
      "source": [
        "Testons !"
      ],
      "metadata": {
        "id": "N3EgcQPP6Pcz"
      }
    },
    {
      "cell_type": "code",
      "source": [
        "import random as rd\n",
        "\n",
        "myList = [rd.randint(0, 1000) for i in range(10)]\n",
        "print(\"Before: \", myList)\n",
        "print(\"After: \", mergeSort(myList))"
      ],
      "metadata": {
        "colab": {
          "base_uri": "https://localhost:8080/"
        },
        "id": "Pm7hoDyj6SPZ",
        "outputId": "e818346c-f900-405b-d7ea-2ed52d56ce00"
      },
      "execution_count": 19,
      "outputs": [
        {
          "output_type": "stream",
          "name": "stdout",
          "text": [
            "Before:  [741, 880, 303, 123, 760, 340, 917, 738, 996, 728]\n",
            "After:  [123, 303, 340, 728, 738, 741, 760, 880, 917, 996]\n"
          ]
        }
      ]
    },
    {
      "cell_type": "markdown",
      "source": [
        "Nous venons de mettre en place un des plus puissants algorithmes de tri connu à ce jour, le tout avec une facilité déconcertante et une grande lisibilité.\n",
        "\n",
        "Nous ne nous somme pas une seule fois soucié de la gestion mémoire, ni même de l'écriture de fonctions nécessaire à la manipulation de nos structures de données, tout était déjà présent et nos efforts se sont uniquement concentrés sur la rédaction de notre solution.\n",
        "\n",
        "C'est Python."
      ],
      "metadata": {
        "id": "uen7wjSz3ZjC"
      }
    }
  ]
}