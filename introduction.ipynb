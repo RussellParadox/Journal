{
  "nbformat": 4,
  "nbformat_minor": 0,
  "metadata": {
    "colab": {
      "provenance": [],
      "mount_file_id": "1Hw9Z-jmquaa1_Sf8zi8y87d20jBugG4N",
      "authorship_tag": "ABX9TyPCXaEEhpiEp5FwkSpK2raq",
      "include_colab_link": true
    },
    "kernelspec": {
      "name": "python3",
      "display_name": "Python 3"
    },
    "language_info": {
      "name": "python"
    }
  },
  "cells": [
    {
      "cell_type": "markdown",
      "metadata": {
        "id": "view-in-github",
        "colab_type": "text"
      },
      "source": [
        "<a href=\"https://colab.research.google.com/github/RussellParadox/Programmation_Efficace_Python/blob/main/introduction.ipynb\" target=\"_parent\"><img src=\"https://colab.research.google.com/assets/colab-badge.svg\" alt=\"Open In Colab\"/></a>"
      ]
    },
    {
      "cell_type": "markdown",
      "source": [
        "# Introduction"
      ],
      "metadata": {
        "id": "_t-pYdJBo8_5"
      }
    },
    {
      "cell_type": "markdown",
      "source": [
        "## Quelques conseils"
      ],
      "metadata": {
        "id": "nIaNa3oFpRrc"
      }
    },
    {
      "cell_type": "markdown",
      "source": [
        "> Faire attention aux copies par reference"
      ],
      "metadata": {
        "id": "kGv1bulzpeLM"
      }
    },
    {
      "cell_type": "code",
      "execution_count": null,
      "metadata": {
        "id": "sC-LiMVqnFl_",
        "colab": {
          "base_uri": "https://localhost:8080/"
        },
        "outputId": "6c9b38fc-f72e-4ac6-c454-04d28ddf8e1a"
      },
      "outputs": [
        {
          "output_type": "stream",
          "name": "stdout",
          "text": [
            "Avec copie par reference:\n",
            "B =  [2, 2, 3]\n",
            "A =  [2, 2, 3] \n",
            "\n",
            "Et sans:\n",
            "B =  [2, 2, 3]\n",
            "A =  [1, 2, 3]\n"
          ]
        }
      ],
      "source": [
        "#En copiant par reference, on peut modifier A au travers de B\n",
        "A = [1, 2, 3]\n",
        "B = A\n",
        "\n",
        "B[0] = 2\n",
        "print(\"Avec copie par reference:\")\n",
        "print(\"B = \", B)\n",
        "print(\"A = \", A, \"\\n\")\n",
        "\n",
        "#Il est souvent preferable de copier distinctement une liste\n",
        "A = [1, 2, 3]\n",
        "B = A[:]\n",
        "\n",
        "B[0] = 2\n",
        "print(\"Et sans:\")\n",
        "print(\"B = \", B)\n",
        "print(\"A = \", A)"
      ]
    },
    {
      "cell_type": "markdown",
      "source": [
        "> Rappel syntaxe"
      ],
      "metadata": {
        "id": "X0zNlW91rn7p"
      }
    },
    {
      "cell_type": "markdown",
      "source": [
        "**Le slicing**: `A[start:end:step]` retournera une sous-liste copie de `A`, allant de **start inclus** jusqu'a **end exclus** par **pas de step**. Par defaut, si on ne precise pas un de ces elements, on aura:\n",
        "\n",
        "\n",
        "*   `start` -> `0`\n",
        "*   `end` -> `len(A)`\n",
        "*   `step` -> `1`\n",
        "\n"
      ],
      "metadata": {
        "id": "hKkgrLZxsOYH"
      }
    },
    {
      "cell_type": "code",
      "source": [
        "A = [1, 2, 3, 4]\n",
        "\n",
        "print(\"A[1:3] -> \", A[1:3])\n",
        "print(\"A[:3] -> \", A[:3])\n",
        "print(\"A[3:] -> \", A[3:])\n",
        "print(\"A[0:4:2] -> \", A[0:4:2])\n",
        "print(\"A[::] -> \", A[::])\n",
        "print(\"A[:] -> \", A[:])"
      ],
      "metadata": {
        "id": "Jojf6RBUrvH5",
        "colab": {
          "base_uri": "https://localhost:8080/"
        },
        "outputId": "4dd17ce9-f399-400a-8871-39a16ef635f1"
      },
      "execution_count": 10,
      "outputs": [
        {
          "output_type": "stream",
          "name": "stdout",
          "text": [
            "A[1:3] ->  [2, 3]\n",
            "A[:3] ->  [1, 2, 3]\n",
            "A[3:] ->  [4]\n",
            "A[0:4:2] ->  [1, 3]\n",
            "A[::] ->  [1, 2, 3, 4]\n",
            "A[:] ->  [1, 2, 3, 4]\n"
          ]
        }
      ]
    }
  ]
}